{
  "nbformat": 4,
  "nbformat_minor": 0,
  "metadata": {
    "colab": {
      "provenance": [],
      "authorship_tag": "ABX9TyOnTbQWOA6lvCl+Abjdk44h",
      "include_colab_link": true
    },
    "kernelspec": {
      "name": "python3",
      "display_name": "Python 3"
    },
    "language_info": {
      "name": "python"
    }
  },
  "cells": [
    {
      "cell_type": "markdown",
      "metadata": {
        "id": "view-in-github",
        "colab_type": "text"
      },
      "source": [
        "<a href=\"https://colab.research.google.com/github/fav-94/Data-Science-Course/blob/main/Data_Structures.ipynb\" target=\"_parent\"><img src=\"https://colab.research.google.com/assets/colab-badge.svg\" alt=\"Open In Colab\"/></a>"
      ]
    },
    {
      "cell_type": "markdown",
      "source": [
        "<h1><b>Data Structures</b></h1></br>\n",
        "<h2><i>These are structures that store a collection of related data i.e., lists, tuple, dictionary and set.<ih2></i>\n"
      ],
      "metadata": {
        "id": "O2lBGQGJUaYD"
      }
    },
    {
      "cell_type": "markdown",
      "source": [
        "<b>List</b></br>\n",
        "This is a mutable data structure that holds an ordered collection of items. It should be enclosed in square brackets [], with commas separating each items. We can add, remove or even search for items in a list.Index based"
      ],
      "metadata": {
        "id": "O1UX4OXlU8Fi"
      }
    },
    {
      "cell_type": "code",
      "source": [
        " # Length of List\n",
        "Shopping = ['kiteteyi', 'Shorts','dress', 'Shirt']\n",
        "print(len(Shopping))"
      ],
      "metadata": {
        "id": "sw3q5wU6V81o"
      },
      "execution_count": null,
      "outputs": []
    },
    {
      "cell_type": "code",
      "source": [
        "#Append\n",
        "Shopping.append('Shoes')\n",
        "print(Shopping)"
      ],
      "metadata": {
        "id": "3TA68ZTomjbf"
      },
      "execution_count": null,
      "outputs": []
    },
    {
      "cell_type": "code",
      "source": [
        "#Sorting: Ascending Order\n",
        "Shopping.sort()\n",
        "print(Shopping)"
      ],
      "metadata": {
        "id": "p8dKQMLtnoCa"
      },
      "execution_count": null,
      "outputs": []
    },
    {
      "cell_type": "code",
      "source": [
        "#Indexing\n",
        "print(Shopping[2])"
      ],
      "metadata": {
        "id": "yEl3ZjQHnxab"
      },
      "execution_count": null,
      "outputs": []
    },
    {
      "cell_type": "code",
      "source": [
        "#Removing\n",
        "Shopping.remove('dress')\n",
        "print(Shopping)\n",
        "del Shopping[1]\n",
        "print(Shopping)"
      ],
      "metadata": {
        "id": "B4d-a0QyoXL4"
      },
      "execution_count": null,
      "outputs": []
    },
    {
      "cell_type": "code",
      "source": [
        "#Slicing: Returns a portion of the list through indexing\n",
        "print(Shopping[0:2])\n"
      ],
      "metadata": {
        "id": "VyO4fBxxojen"
      },
      "execution_count": null,
      "outputs": []
    },
    {
      "cell_type": "code",
      "source": [
        "#Insert\n",
        "Shopping.insert(2, 'Jacket')\n",
        "print(Shopping)"
      ],
      "metadata": {
        "id": "vieHmA_jpBTe"
      },
      "execution_count": null,
      "outputs": []
    },
    {
      "cell_type": "code",
      "source": [
        "#Reverse: Descending\n",
        "Shopping.reverse()\n",
        "print(Shopping)"
      ],
      "metadata": {
        "id": "7vGxRBbCp-ha"
      },
      "execution_count": null,
      "outputs": []
    },
    {
      "cell_type": "markdown",
      "source": [
        "<b>Assignment 1</b>\n",
        "1. Create a list of your top 5 favorite movies. Then, replace the movie at index 2 with a new one. Finally, sort the list in alphabetical order and print the result.\n",
        "2. Given a list of numbers, [5, 15, 25, 35, 45], insert the number 20 at the correct position to maintain the sorted order. Then, remove the last item and print the modified list."
      ],
      "metadata": {
        "id": "uqzPiSV0zlmJ"
      }
    },
    {
      "cell_type": "markdown",
      "source": [
        "<b>Tuples</b></br>\n",
        "These hold together multiple items. They are immutable so cannot be modified. They are separated by commas and enclosed in parentheses ()."
      ],
      "metadata": {
        "id": "ORMLkGown4EJ"
      }
    },
    {
      "cell_type": "code",
      "source": [
        "# indexing\n",
        "animals = ('cow', 'dog', 'cat', 'cat')\n",
        "print(animals[2])\n"
      ],
      "metadata": {
        "id": "cULCQvYKq3s8"
      },
      "execution_count": null,
      "outputs": []
    },
    {
      "cell_type": "code",
      "source": [
        "#Counting\n",
        "animals.count('cat')"
      ],
      "metadata": {
        "id": "BNKa_2DYrIjf"
      },
      "execution_count": null,
      "outputs": []
    },
    {
      "cell_type": "markdown",
      "source": [
        "<b>Assignment 2</b>\n",
        "1. You have a tuple ('pen', 'pencil', 'eraser'). Your friend wants to borrow the 'pencil' and you want to add a 'ruler' to your collection. Since tuples are immutable, how can you achieve this by creating a new tuple?\n",
        "\n",
        "2. You are given a tuple of student scores: (85, 92, 78, 85, 90, 85). First, find out how many times the score 85 appears. Then, find the index of the first occurrence of the score 92."
      ],
      "metadata": {
        "id": "W8mfr2uO0BRk"
      }
    },
    {
      "cell_type": "markdown",
      "source": [
        "<b>Sets</b></br>\n",
        "They are unordered, mutable collection of unique items.They are created by inserting items separated by commas, enclosed in curly brackets {}.\n",
        "\n",
        "<i>Empty curly brackets do not create an empty set, but rather a dictionary<i>"
      ],
      "metadata": {
        "id": "kfwrETVrr439"
      }
    },
    {
      "cell_type": "code",
      "source": [
        "#Adding elements\n",
        "animals = {'cow', 'dog', 'cat', 'cat'}\n",
        "animals.add('sheep')\n",
        "print(animals)"
      ],
      "metadata": {
        "id": "l_HiA-bfsnyC"
      },
      "execution_count": null,
      "outputs": []
    },
    {
      "cell_type": "code",
      "source": [
        "#Removing\n",
        "animals.remove('dog')\n",
        "print(animals)"
      ],
      "metadata": {
        "id": "Q2wIIOD3t67Y"
      },
      "execution_count": null,
      "outputs": []
    },
    {
      "cell_type": "code",
      "source": [
        "#Combining\n",
        "set2 = {'lion', 'tiger', 'cat'}\n",
        "all_animals = animals.union(set2)\n",
        "print(all_animals)"
      ],
      "metadata": {
        "id": "8NXqqs3St_W0"
      },
      "execution_count": null,
      "outputs": []
    },
    {
      "cell_type": "code",
      "source": [
        "#Finding  intersection\n",
        "print(animals.intersection(all_animals))\n"
      ],
      "metadata": {
        "id": "kzfUFxtLuNjk"
      },
      "execution_count": null,
      "outputs": []
    },
    {
      "cell_type": "markdown",
      "source": [
        "<b>Assignment 3</b>\n",
        "1. Create a set of your favorite hobbies. Add a new hobby to the set. Then, create another set with a friend's hobbies. Find the hobbies that you both have in common and the hobbies that are unique to each of you.\n",
        "\n",
        "2. You have a set of numbers A = {1, 2, 3, 4, 5} and another set B = {4, 5, 6, 7, 8}. Find the union of both sets (all unique numbers from both sets) and the difference between set A and set B (numbers present in A but not in B).\n",
        "\n"
      ],
      "metadata": {
        "id": "ALefDL_6z4Lu"
      }
    },
    {
      "cell_type": "markdown",
      "source": [
        "<b>Dictionaries</b></br>\n",
        "They are mutable and unordered collection of key-value pairs. They associate a key (i.e., name) to a certain value (i.e., details)."
      ],
      "metadata": {
        "id": "nVuiQoRGufNf"
      }
    },
    {
      "cell_type": "code",
      "source": [
        "uict = {'staff':50, 'Admin': 15, 'Support':10}\n",
        "# Indexing: Find value associated with a certain key\n",
        "print(uict['staff'])"
      ],
      "metadata": {
        "id": "hPWwJf_NvZsd"
      },
      "execution_count": null,
      "outputs": []
    },
    {
      "cell_type": "code",
      "source": [
        "#retrieve value by key\n",
        "uict.get('Admin')\n"
      ],
      "metadata": {
        "id": "Owzr-ETcw7es"
      },
      "execution_count": null,
      "outputs": []
    },
    {
      "cell_type": "code",
      "source": [
        "#Set default value: Appended a new key and value to the dictionary\n",
        "uict.setdefault('Student', 100)\n",
        "print(uict)"
      ],
      "metadata": {
        "id": "74jxFjynxH5G"
      },
      "execution_count": null,
      "outputs": []
    },
    {
      "cell_type": "code",
      "source": [
        "#update key value pairs\n",
        "uict.update({'Student': 480})\n",
        "print(uict)"
      ],
      "metadata": {
        "id": "0ik8WBhkxbpi"
      },
      "execution_count": null,
      "outputs": []
    },
    {
      "cell_type": "code",
      "source": [
        "#Remove key value pairs\n",
        "uict.pop('Support')\n",
        "print(uict)"
      ],
      "metadata": {
        "id": "HtQsR6EHx3QM"
      },
      "execution_count": null,
      "outputs": []
    },
    {
      "cell_type": "code",
      "source": [
        "#Change key 'Admin' to 'Officers'\n",
        "uict['Officers'] = uict.pop('Admin')\n",
        "print(uict)"
      ],
      "metadata": {
        "id": "lA3BML3PypWp"
      },
      "execution_count": null,
      "outputs": []
    },
    {
      "cell_type": "markdown",
      "source": [
        "<b>Assignment 4</b>\n",
        "1. Create a dictionary representing a car with keys 'brand', 'model', and 'year'. Then, add a new key-value pair for 'color'. Finally, update the 'year' to a newer year and remove the 'model' key.\n",
        "\n",
        "2. You have a dictionary of product prices: {'apple': 0.50, 'banana': 0.25, 'orange': 0.60}. You want to increase the price of 'apple' by 10% and add a new product 'mango' with a price of 1.25."
      ],
      "metadata": {
        "id": "loBwdxTS0TWv"
      }
    }
  ]
}