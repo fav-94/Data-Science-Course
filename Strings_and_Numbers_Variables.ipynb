{
  "nbformat": 4,
  "nbformat_minor": 0,
  "metadata": {
    "colab": {
      "provenance": [],
      "mount_file_id": "1eodmXWnjYA7sd4d3fGeLJ6yPOqBVEXFm",
      "authorship_tag": "ABX9TyMXRYVgAQxyxy0RC3cIrUdF",
      "include_colab_link": true
    },
    "kernelspec": {
      "name": "python3",
      "display_name": "Python 3"
    },
    "language_info": {
      "name": "python"
    }
  },
  "cells": [
    {
      "cell_type": "markdown",
      "metadata": {
        "id": "view-in-github",
        "colab_type": "text"
      },
      "source": [
        "<a href=\"https://colab.research.google.com/github/fav-94/Data-Science-Course/blob/main/Strings_and_Numbers_Variables.ipynb\" target=\"_parent\"><img src=\"https://colab.research.google.com/assets/colab-badge.svg\" alt=\"Open In Colab\"/></a>"
      ]
    },
    {
      "cell_type": "markdown",
      "source": [
        "<h1><b>Python Language Basics</b></h1>"
      ],
      "metadata": {
        "id": "4LIdEuxMT3WO"
      }
    },
    {
      "cell_type": "markdown",
      "source": [
        "<h2><b>Literal Constants</b></h2></br>\n",
        "<h4>A literal Constant is like a number i.e., 1, 4, 0.34, 7.3 or like a string like \"You are welcome\". The value of a literal constant represents itself only.</h4>\n"
      ],
      "metadata": {
        "id": "YEVsj682WekV"
      }
    },
    {
      "cell_type": "markdown",
      "source": [
        "<b>Print Function</b></br>\n",
        "It is used to display output in the console.\n",
        "\n",
        "<b>Comment</b></br>\n",
        "Allows you to comment out a line of code in the code cell without executing it. Using #\n",
        "or\n",
        "Comment out a block of text in a code cell using \" \" \"  or ' ' '\n",
        "\n"
      ],
      "metadata": {
        "id": "I_VF2HAmftox"
      }
    },
    {
      "cell_type": "code",
      "source": [
        "#Use the Print Function to return Hello World!\n",
        "print()\n"
      ],
      "metadata": {
        "id": "jBCA8_t4fShR"
      },
      "execution_count": null,
      "outputs": []
    },
    {
      "cell_type": "code",
      "source": [
        "#Prompt a user to enter their name and print\n",
        "username = input('Enter your name: ')\n",
        "print()"
      ],
      "metadata": {
        "id": "0rrxceUqfsf-"
      },
      "execution_count": null,
      "outputs": []
    },
    {
      "cell_type": "markdown",
      "source": [
        "<b>Numbers Variables</b></br>\n",
        "<i>Numbers can be integers or Floats.They can be stored in variables<i>\n"
      ],
      "metadata": {
        "id": "jbnqANLfUlvd"
      }
    },
    {
      "cell_type": "code",
      "source": [
        "#Declare an integer and float to return its output using the print statement\n",
        "a = 20\n",
        "print(a)"
      ],
      "metadata": {
        "id": "WGtu37ylbKXN"
      },
      "execution_count": null,
      "outputs": []
    },
    {
      "cell_type": "markdown",
      "source": [
        "Declare multiple variables and perform math operations on the values"
      ],
      "metadata": {
        "id": "xm-4bicc4OqK"
      }
    },
    {
      "cell_type": "code",
      "source": [
        "#Return the Addition\n"
      ],
      "metadata": {
        "id": "xYywxukgikTU"
      },
      "execution_count": null,
      "outputs": []
    },
    {
      "cell_type": "code",
      "source": [
        "#Division\n"
      ],
      "metadata": {
        "id": "E_UR2t-eiwAJ"
      },
      "execution_count": null,
      "outputs": []
    },
    {
      "cell_type": "code",
      "source": [
        "#Multiplication\n"
      ],
      "metadata": {
        "id": "sMRjBTB1i4_j"
      },
      "execution_count": null,
      "outputs": []
    },
    {
      "cell_type": "code",
      "source": [
        "#Write a program, that prompts a user to input two numbers and find the difference of the 2 numbers.\n"
      ],
      "metadata": {
        "id": "aWeZNy78jFKT"
      },
      "execution_count": null,
      "outputs": []
    },
    {
      "cell_type": "code",
      "source": [
        "#Adding a Variable and a Literal Constant\n"
      ],
      "metadata": {
        "id": "sMavVhv-7lWW"
      },
      "execution_count": null,
      "outputs": []
    },
    {
      "cell_type": "markdown",
      "source": [
        "<b>Assignment 1 </b>\n",
        "1. Write a program that prompts a user to enter the radius of a circle, calculates the area and circumference, and then prints both results in a user-friendly format."
      ],
      "metadata": {
        "id": "1cs3_3dI2HMB"
      }
    },
    {
      "cell_type": "markdown",
      "source": [
        "<b>String Variables</b></br>\n",
        "<i>This is basically words or characters, and a string can be stored in a Variable. A string is immutable, meaning it cannot be changed<i>"
      ],
      "metadata": {
        "id": "hXDVicQBkl4L"
      }
    },
    {
      "cell_type": "code",
      "source": [
        "#Declare a variable to return your favorite color"
      ],
      "metadata": {
        "id": "cBv-U_5wkhsM"
      },
      "execution_count": null,
      "outputs": []
    },
    {
      "cell_type": "code",
      "source": [
        "#String functions, uppercase, lowercase, capitalize\n"
      ],
      "metadata": {
        "id": "8jIOfePncMP0"
      },
      "execution_count": null,
      "outputs": []
    },
    {
      "cell_type": "code",
      "source": [
        "#Format Strings\n",
        "color = \"blue\"\n",
        "print(color)\n",
        "print(f'The sky is {color}')"
      ],
      "metadata": {
        "id": "NUB3vjcaox2s"
      },
      "execution_count": null,
      "outputs": []
    },
    {
      "cell_type": "code",
      "source": [
        "#Combine Strings\n",
        "f = \"dan\"\n",
        "d = \"eve\"\n",
        "print(f +\" \" + d)\n",
        "print(\"Hi \" + f + \" and \" + d + \" how are you?\")\n",
        "print(f' Hi {f}, my name is {d}')"
      ],
      "metadata": {
        "id": "44Eg3GDgsTVz"
      },
      "execution_count": null,
      "outputs": []
    },
    {
      "cell_type": "code",
      "source": [
        "#Declare two variables FirstName and LastName, capitaize them, to return a full name"
      ],
      "metadata": {
        "id": "i-QOqD9Mukqb"
      },
      "execution_count": null,
      "outputs": []
    },
    {
      "cell_type": "markdown",
      "source": [
        "<b>Assignment 2</b>\n",
        "1. Create a program that asks a user for their first name and last name. Then, create a new variable called full_name by combining the first and last names in uppercase with a space in between. Finally, print a message that says: \"Hello, [Full Name]! Your name has [Number] characters.\""
      ],
      "metadata": {
        "id": "jdL80fdk2bks"
      }
    },
    {
      "cell_type": "markdown",
      "source": [
        "<b>Combining strings with numbers</b></br>\n",
        "You can return an output by using + to add numbers or to concatenate multiple strings.\n",
        "The print function won't know what to do if you pass a number and a string, so it would normally pass an error.\n",
        "The number, has to be converted to a string using str(variable)"
      ],
      "metadata": {
        "id": "MepRdvrI0mMX"
      }
    },
    {
      "cell_type": "code",
      "source": [
        "#Converting a number to a string"
      ],
      "metadata": {
        "id": "W5uLkAn1bJ0K"
      },
      "execution_count": null,
      "outputs": []
    },
    {
      "cell_type": "markdown",
      "source": [
        "<b>Assignment 3</b>\n",
        "1. Create a program that asks a user for their name and age. Then, calculate the year they were born and print a message like: \"Hi [Name], you are [Age] years old, so you were born in [Year].\""
      ],
      "metadata": {
        "id": "U1u1oaDK2qZk"
      }
    }
  ]
}